{
 "cells": [
  {
   "cell_type": "markdown",
   "id": "innocent-conditioning",
   "metadata": {},
   "source": [
    "# KNN classification"
   ]
  },
  {
   "cell_type": "code",
   "execution_count": 6,
   "id": "modular-virgin",
   "metadata": {},
   "outputs": [],
   "source": [
    "# import only to read Iris dataset\n",
    "from sklearn import datasets\n",
    "import numpy as np"
   ]
  },
  {
   "cell_type": "code",
   "execution_count": 7,
   "id": "aquatic-flush",
   "metadata": {},
   "outputs": [],
   "source": [
    "# read Iris dataset\n",
    "iris = datasets.load_iris()\n",
    "X = iris.data\n",
    "y = iris.target"
   ]
  },
  {
   "cell_type": "code",
   "execution_count": 8,
   "id": "criminal-moore",
   "metadata": {},
   "outputs": [
    {
     "data": {
      "text/plain": [
       "(array([[5.1, 3.5, 1.4, 0.2],\n",
       "        [4.9, 3. , 1.4, 0.2],\n",
       "        [4.7, 3.2, 1.3, 0.2],\n",
       "        [4.6, 3.1, 1.5, 0.2],\n",
       "        [5. , 3.6, 1.4, 0.2]]),\n",
       " array([0, 0, 0, 0, 0]))"
      ]
     },
     "execution_count": 8,
     "metadata": {},
     "output_type": "execute_result"
    }
   ],
   "source": [
    "#(optional) Check the data format \n",
    "X[:5],y[:5]"
   ]
  },
  {
   "cell_type": "markdown",
   "id": "wicked-adelaide",
   "metadata": {},
   "source": [
    "## Algorithm"
   ]
  },
  {
   "cell_type": "code",
   "execution_count": 9,
   "id": "senior-stable",
   "metadata": {},
   "outputs": [],
   "source": [
    "# calculate euclidean distance betweeen two data points\n",
    "def calculate_euclidean_distance(data_point_1, data_point_2):\n",
    "    distance = 0.0\n",
    "    for i in range(len(data_point_1)):\n",
    "        distance += (data_point_1[i] - data_point_2[i]) ** 2\n",
    "    return np.sqrt(distance)"
   ]
  },
  {
   "cell_type": "code",
   "execution_count": 10,
   "id": "lovely-silver",
   "metadata": {},
   "outputs": [
    {
     "name": "stdout",
     "output_type": "stream",
     "text": [
      "0.5385164807134502\n",
      "0.509901951359278\n",
      "0.648074069840786\n",
      "0.1414213562373093\n",
      "0.6164414002968979\n"
     ]
    }
   ],
   "source": [
    "#(optional) test calculate_euclidean_distance functionality\n",
    "for Xi in X[1:6]:\n",
    "    print(calculate_euclidean_distance(X[0],Xi))"
   ]
  },
  {
   "cell_type": "code",
   "execution_count": 11,
   "id": "unlimited-ranch",
   "metadata": {},
   "outputs": [],
   "source": [
    "# Get k nearest points of a single given point.\n",
    "def get_k_nearest_points_index(user_point, neighbor_points, k):\n",
    "    neighbor_distances = []\n",
    "    for idx, neighbor_point in enumerate(neighbor_points):\n",
    "        distance = calculate_euclidean_distance(user_point, neighbor_point)\n",
    "        neighbor_distances.append((idx, distance))\n",
    "    neighbor_distances.sort(key=lambda n: n[1])\n",
    "    return neighbor_distances[:k]"
   ]
  },
  {
   "cell_type": "code",
   "execution_count": 12,
   "id": "formed-rally",
   "metadata": {},
   "outputs": [
    {
     "data": {
      "text/plain": [
       "[(16, 0.09999999999999998), (3, 0.1414213562373093), (38, 0.14142135623730964)]"
      ]
     },
     "execution_count": 12,
     "metadata": {},
     "output_type": "execute_result"
    }
   ],
   "source": [
    "#(optional) test k nearest points functionality\n",
    "get_k_nearest_points_index(X[0],X[1:], 3)"
   ]
  },
  {
   "cell_type": "code",
   "execution_count": 18,
   "id": "coated-tension",
   "metadata": {},
   "outputs": [],
   "source": [
    "def predict_for_classification(test_point, train_points, train_labels, k):\n",
    "    k_nearest_point_indices = get_k_nearest_points_index(test_point, train_points, k)\n",
    "    k_labels = list(dict(k_nearest_point_indices).keys())\n",
    "    output_label = max(k_labels, key = k_labels.count)\n",
    "    return train_labels[output_label]"
   ]
  },
  {
   "cell_type": "code",
   "execution_count": 19,
   "id": "stuffed-maple",
   "metadata": {},
   "outputs": [
    {
     "data": {
      "text/plain": [
       "0"
      ]
     },
     "execution_count": 19,
     "metadata": {},
     "output_type": "execute_result"
    }
   ],
   "source": [
    "# (optional) test classification prediction\n",
    "predict_for_classification(X[0],X[1:], y[1:],3)"
   ]
  },
  {
   "cell_type": "code",
   "execution_count": null,
   "id": "african-member",
   "metadata": {},
   "outputs": [],
   "source": []
  }
 ],
 "metadata": {
  "kernelspec": {
   "display_name": "Python 3",
   "language": "python",
   "name": "python3"
  },
  "language_info": {
   "codemirror_mode": {
    "name": "ipython",
    "version": 3
   },
   "file_extension": ".py",
   "mimetype": "text/x-python",
   "name": "python",
   "nbconvert_exporter": "python",
   "pygments_lexer": "ipython3",
   "version": "3.7.0"
  }
 },
 "nbformat": 4,
 "nbformat_minor": 5
}

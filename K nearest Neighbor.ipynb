{
 "cells": [
  {
   "cell_type": "markdown",
   "id": "innocent-conditioning",
   "metadata": {},
   "source": [
    "# KNN classification"
   ]
  },
  {
   "cell_type": "code",
   "execution_count": 2,
   "id": "modular-virgin",
   "metadata": {},
   "outputs": [],
   "source": [
    "# import only to read Iris dataset\n",
    "from sklearn import datasets\n",
    "import numpy as np"
   ]
  },
  {
   "cell_type": "code",
   "execution_count": 3,
   "id": "aquatic-flush",
   "metadata": {},
   "outputs": [],
   "source": [
    "# read Iris dataset\n",
    "iris = datasets.load_iris()\n",
    "X = iris.data\n",
    "y = iris.target"
   ]
  },
  {
   "cell_type": "code",
   "execution_count": 4,
   "id": "criminal-moore",
   "metadata": {},
   "outputs": [
    {
     "data": {
      "text/plain": [
       "(array([[5.1, 3.5, 1.4, 0.2],\n",
       "        [4.9, 3. , 1.4, 0.2],\n",
       "        [4.7, 3.2, 1.3, 0.2],\n",
       "        [4.6, 3.1, 1.5, 0.2],\n",
       "        [5. , 3.6, 1.4, 0.2]]),\n",
       " array([0, 0, 0, 0, 0]))"
      ]
     },
     "execution_count": 4,
     "metadata": {},
     "output_type": "execute_result"
    }
   ],
   "source": [
    "#(optional) Check the data format \n",
    "X[:5],y[:5]"
   ]
  },
  {
   "cell_type": "markdown",
   "id": "wicked-adelaide",
   "metadata": {},
   "source": [
    "## Algorithm"
   ]
  },
  {
   "cell_type": "code",
   "execution_count": 5,
   "id": "senior-stable",
   "metadata": {},
   "outputs": [],
   "source": [
    "# calculate euclidean distance betweeen two data points\n",
    "def calculate_euclidean_distance(data_point_1, data_point_2):\n",
    "    distance = 0.0\n",
    "    for i in range(len(data_point_1)):\n",
    "        distance += (data_point_1[i] - data_point_2[i]) ** 2\n",
    "    return np.sqrt(distance)"
   ]
  },
  {
   "cell_type": "code",
   "execution_count": 6,
   "id": "lovely-silver",
   "metadata": {},
   "outputs": [
    {
     "name": "stdout",
     "output_type": "stream",
     "text": [
      "0.5385164807134502\n",
      "0.509901951359278\n",
      "0.648074069840786\n",
      "0.1414213562373093\n",
      "0.6164414002968979\n"
     ]
    }
   ],
   "source": [
    "#(optional) test calculate_euclidean_distance functionality\n",
    "for Xi in X[1:6]:\n",
    "    print(calculate_euclidean_distance(X[0],Xi))"
   ]
  },
  {
   "cell_type": "code",
   "execution_count": 7,
   "id": "unlimited-ranch",
   "metadata": {},
   "outputs": [],
   "source": [
    "# Get k nearest points of a single given point.\n",
    "def get_k_nearest_points_index(user_point, neighbor_points, k):\n",
    "    neighbor_distances = []\n",
    "    for idx, neighbor_point in enumerate(neighbor_points):\n",
    "        distance = calculate_euclidean_distance(user_point, neighbor_point)\n",
    "        neighbor_distances.append((idx, distance))\n",
    "    neighbor_distances.sort(key=lambda n: n[1])\n",
    "    return neighbor_distances[:k]"
   ]
  },
  {
   "cell_type": "code",
   "execution_count": 8,
   "id": "formed-rally",
   "metadata": {},
   "outputs": [
    {
     "data": {
      "text/plain": [
       "[(16, 0.09999999999999998), (3, 0.1414213562373093), (38, 0.14142135623730964)]"
      ]
     },
     "execution_count": 8,
     "metadata": {},
     "output_type": "execute_result"
    }
   ],
   "source": [
    "#(optional) test k nearest points functionality\n",
    "get_k_nearest_points_index(X[0],X[1:], 3)"
   ]
  },
  {
   "cell_type": "code",
   "execution_count": 9,
   "id": "coated-tension",
   "metadata": {},
   "outputs": [],
   "source": [
    "def predict_for_classification(test_point, train_points, train_labels, k):\n",
    "    k_nearest_point_indices = get_k_nearest_points_index(test_point, train_points, k)\n",
    "    k_labels = list(dict(k_nearest_point_indices).keys())\n",
    "    output_label = max(k_labels, key = k_labels.count)\n",
    "    return train_labels[output_label]"
   ]
  },
  {
   "cell_type": "code",
   "execution_count": 10,
   "id": "stuffed-maple",
   "metadata": {},
   "outputs": [
    {
     "data": {
      "text/plain": [
       "0"
      ]
     },
     "execution_count": 10,
     "metadata": {},
     "output_type": "execute_result"
    }
   ],
   "source": [
    "# (optional) test classification prediction\n",
    "predict_for_classification(X[0],X[1:], y[1:],3)"
   ]
  },
  {
   "cell_type": "code",
   "execution_count": 11,
   "id": "african-member",
   "metadata": {},
   "outputs": [
    {
     "data": {
      "text/plain": [
       "0"
      ]
     },
     "execution_count": 11,
     "metadata": {},
     "output_type": "execute_result"
    }
   ],
   "source": [
    "y[0]"
   ]
  },
  {
   "cell_type": "markdown",
   "id": "challenging-latvia",
   "metadata": {},
   "source": [
    "# KNN regression"
   ]
  },
  {
   "cell_type": "code",
   "execution_count": 13,
   "id": "nervous-documentary",
   "metadata": {},
   "outputs": [],
   "source": [
    "# Read diabetes data\n",
    "diabetes = datasets.load_diabetes()\n",
    "X = diabetes.data\n",
    "y = diabetes.target"
   ]
  },
  {
   "cell_type": "code",
   "execution_count": 14,
   "id": "hindu-product",
   "metadata": {},
   "outputs": [
    {
     "data": {
      "text/plain": [
       "(array([[ 0.03807591,  0.05068012,  0.06169621,  0.02187235, -0.0442235 ,\n",
       "         -0.03482076, -0.04340085, -0.00259226,  0.01990842, -0.01764613],\n",
       "        [-0.00188202, -0.04464164, -0.05147406, -0.02632783, -0.00844872,\n",
       "         -0.01916334,  0.07441156, -0.03949338, -0.06832974, -0.09220405],\n",
       "        [ 0.08529891,  0.05068012,  0.04445121, -0.00567061, -0.04559945,\n",
       "         -0.03419447, -0.03235593, -0.00259226,  0.00286377, -0.02593034],\n",
       "        [-0.08906294, -0.04464164, -0.01159501, -0.03665645,  0.01219057,\n",
       "          0.02499059, -0.03603757,  0.03430886,  0.02269202, -0.00936191],\n",
       "        [ 0.00538306, -0.04464164, -0.03638469,  0.02187235,  0.00393485,\n",
       "          0.01559614,  0.00814208, -0.00259226, -0.03199144, -0.04664087]]),\n",
       " array([151.,  75., 141., 206., 135.]))"
      ]
     },
     "execution_count": 14,
     "metadata": {},
     "output_type": "execute_result"
    }
   ],
   "source": [
    "X[:5], y[:5]"
   ]
  },
  {
   "cell_type": "code",
   "execution_count": 15,
   "id": "connected-vacation",
   "metadata": {},
   "outputs": [
    {
     "name": "stdout",
     "output_type": "stream",
     "text": [
      "0.2364845537916607\n",
      "0.06139576832475997\n",
      "0.20566958779442196\n",
      "0.17557613073850112\n",
      "0.252015428632744\n"
     ]
    }
   ],
   "source": [
    "#(optional) test calculate_euclidean_distance functionality\n",
    "for Xi in X[1:6]:\n",
    "    print(calculate_euclidean_distance(X[0],Xi))"
   ]
  },
  {
   "cell_type": "code",
   "execution_count": 16,
   "id": "stone-vinyl",
   "metadata": {},
   "outputs": [
    {
     "data": {
      "text/plain": [
       "[(50, 0.057814687136138965),\n",
       " (1, 0.06139576832475997),\n",
       " (340, 0.07172412054855398)]"
      ]
     },
     "execution_count": 16,
     "metadata": {},
     "output_type": "execute_result"
    }
   ],
   "source": [
    "#(optional) test k nearest points functionality\n",
    "get_k_nearest_points_index(X[0],X[1:], 3)"
   ]
  },
  {
   "cell_type": "code",
   "execution_count": 21,
   "id": "elegant-galaxy",
   "metadata": {},
   "outputs": [],
   "source": [
    "def predict_for_regression(test_point, train_points, train_labels, k):\n",
    "    k_nearest_point_indices = get_k_nearest_points_index(test_point, train_points, k)\n",
    "    k_labels = list(dict(k_nearest_point_indices).keys())\n",
    "    \n",
    "    summation = 0.0\n",
    "    for label in k_labels:\n",
    "        summation += train_labels[label]\n",
    "    return summation/len(k_labels)"
   ]
  },
  {
   "cell_type": "code",
   "execution_count": 22,
   "id": "infectious-courtesy",
   "metadata": {},
   "outputs": [
    {
     "data": {
      "text/plain": [
       "209.66666666666666"
      ]
     },
     "execution_count": 22,
     "metadata": {},
     "output_type": "execute_result"
    }
   ],
   "source": [
    "# (optiona) test regression prediction\n",
    "predict_for_regression(X[0],X[1:], y[1:],3)"
   ]
  },
  {
   "cell_type": "code",
   "execution_count": null,
   "id": "exotic-saskatchewan",
   "metadata": {},
   "outputs": [],
   "source": []
  }
 ],
 "metadata": {
  "kernelspec": {
   "display_name": "Python 3",
   "language": "python",
   "name": "python3"
  },
  "language_info": {
   "codemirror_mode": {
    "name": "ipython",
    "version": 3
   },
   "file_extension": ".py",
   "mimetype": "text/x-python",
   "name": "python",
   "nbconvert_exporter": "python",
   "pygments_lexer": "ipython3",
   "version": "3.7.0"
  }
 },
 "nbformat": 4,
 "nbformat_minor": 5
}
